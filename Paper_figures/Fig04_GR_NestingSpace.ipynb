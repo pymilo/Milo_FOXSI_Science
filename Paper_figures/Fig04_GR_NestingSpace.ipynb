{
 "cells": [
  {
   "cell_type": "markdown",
   "metadata": {},
   "source": [
    "# Figure 04\n",
    "## FOXSI3 Instrumentation Milo's paper\n",
    "https://v2.overleaf.com/read/wcfwdbgdfgcc\n",
    "### October 2018\n",
    "### Milo BC @ UC Berkeley"
   ]
  },
  {
   "cell_type": "markdown",
   "metadata": {},
   "source": [
    "### Goal:"
   ]
  },
  {
   "cell_type": "markdown",
   "metadata": {},
   "source": [
    "<div class=\"alert alert-info\">\n",
    "Another plot show ghost rays as a function of spacing between shells<br/>\n",
    "<div/>"
   ]
  },
  {
   "cell_type": "markdown",
   "metadata": {},
   "source": [
    "# Question: What's a good way to show the space between shells dependance of Ghost Rays?"
   ]
  },
  {
   "cell_type": "markdown",
   "metadata": {},
   "source": [
    "I took the original FOXSI optics dimensions of a 10-Shell module and multiple the input parameters (Inner shell radii) for a factor of 1.0, 1.2, ..., 3.0. \n",
    "\n",
    "The result is saved in a set of CVS files containing all rays. This is located at: /Users/Kamilobu/Desktop/Developer/Milo_FOXSI_Science/Paper_figures/rays_nested/F309R262/rays"
   ]
  },
  {
   "cell_type": "code",
   "execution_count": 1,
   "metadata": {},
   "outputs": [],
   "source": [
    "import numpy as np\n",
    "import matplotlib.pyplot as plt\n",
    "import seaborn as sns\n",
    "from foxsisim.util import load_rays\n",
    "from foxsisim.detector import Detector\n",
    "sns.set_context('poster')"
   ]
  },
  {
   "cell_type": "code",
   "execution_count": 14,
   "metadata": {},
   "outputs": [],
   "source": [
    "fbr = 3.09671   ## Front blocker\n",
    "rbr = 2.62      ## Rear blocker\n",
    "angle = 30.0    ## off-axis angle in arcmin\n",
    "factor = np.arange(1.,3.2,.2)    ## Scale factor\n",
    "\n",
    "## Defining lists:\n",
    "All_Drays, All_Hrays, All_Prays = [], [], []\n",
    "All_Dx, All_Dy, All_Hx, All_Hy, All_Px, All_Py = [], [], [], [], [], []"
   ]
  },
  {
   "cell_type": "code",
   "execution_count": 15,
   "metadata": {},
   "outputs": [
    {
     "name": "stdout",
     "output_type": "stream",
     "text": [
      "Rays from /Users/Kamilobu/Desktop/Developer/Milo_FOXSI_Science/Paper_figures/rays_nested/F309R262/rays/rays_Factor_=_1.0.csv loaded.\n",
      "Rays from /Users/Kamilobu/Desktop/Developer/Milo_FOXSI_Science/Paper_figures/rays_nested/F309R262/rays/rays_Factor_=_1.2.csv loaded.\n",
      "Rays from /Users/Kamilobu/Desktop/Developer/Milo_FOXSI_Science/Paper_figures/rays_nested/F309R262/rays/rays_Factor_=_1.4.csv loaded.\n",
      "Rays from /Users/Kamilobu/Desktop/Developer/Milo_FOXSI_Science/Paper_figures/rays_nested/F309R262/rays/rays_Factor_=_1.6.csv loaded.\n",
      "Rays from /Users/Kamilobu/Desktop/Developer/Milo_FOXSI_Science/Paper_figures/rays_nested/F309R262/rays/rays_Factor_=_1.8.csv loaded.\n",
      "Rays from /Users/Kamilobu/Desktop/Developer/Milo_FOXSI_Science/Paper_figures/rays_nested/F309R262/rays/rays_Factor_=_2.0.csv loaded.\n",
      "Rays from /Users/Kamilobu/Desktop/Developer/Milo_FOXSI_Science/Paper_figures/rays_nested/F309R262/rays/rays_Factor_=_2.2.csv loaded.\n",
      "Rays from /Users/Kamilobu/Desktop/Developer/Milo_FOXSI_Science/Paper_figures/rays_nested/F309R262/rays/rays_Factor_=_2.4.csv loaded.\n",
      "Rays from /Users/Kamilobu/Desktop/Developer/Milo_FOXSI_Science/Paper_figures/rays_nested/F309R262/rays/rays_Factor_=_2.6.csv loaded.\n",
      "Rays from /Users/Kamilobu/Desktop/Developer/Milo_FOXSI_Science/Paper_figures/rays_nested/F309R262/rays/rays_Factor_=_2.8.csv loaded.\n",
      "Rays from /Users/Kamilobu/Desktop/Developer/Milo_FOXSI_Science/Paper_figures/rays_nested/F309R262/rays/rays_Factor_=_3.0.csv loaded.\n"
     ]
    }
   ],
   "source": [
    "for f in factor:\n",
    "    # Loading Rays:\n",
    "    Frays = load_rays('/Users/Kamilobu/Desktop/Developer/Milo_FOXSI_Science/Paper_figures/rays_nested/F309R262/rays/rays_Factor_=_'+str(round(f,2))+'.csv')\n",
    "    # Fix little bug in rays:\n",
    "    for ray in Frays:\n",
    "        ray.hist = ray.hist.tolist()\n",
    "    # Create detector :\n",
    "    detector = Detector(width=10,\n",
    "                    height=10,\n",
    "                    normal = [0,0,1],\n",
    "                    center = [0,0,230],\n",
    "                    reso = [1024,1024])\n",
    "    # Detector Catch rays:\n",
    "    detector.catchRays(Frays)\n",
    "                      \n",
    "    '''Defining D, H, and P rays for each blocker size: '''\n",
    "    Drays = [ray for ray in Frays if (ray.des[2]==230.0 and abs(ray.des[1])<= 0.48 and abs(ray.des[0])<= 0.48 and ray.bounces ==2 )]\n",
    "    Srays = [ray for ray in Frays if (ray.des[2]==230.0 and abs(ray.des[1])<= 0.48 and abs(ray.des[0])<= 0.48 and ray.bounces ==1 )]\n",
    "    Hrays = [ray for ray in Frays if (ray.des[2]==230.0 and abs(ray.des[1])<= 0.48 and abs(ray.des[0])<= 0.48 and ray.bounces ==1 and ray.tag[-4:] == 'Hy-D' )]\n",
    "    Prays = [ray for ray in Frays if (ray.des[2]==230.0 and abs(ray.des[1])<= 0.48 and abs(ray.des[0])<= 0.48 and ray.bounces ==1 and ray.tag[-4:] == 'Pa-D' )]\n",
    "    \n",
    "    All_Drays.append(Drays)\n",
    "    All_Hrays.append(Hrays)\n",
    "    All_Prays.append(Prays)\n",
    "\n",
    "    sim_scale = 1.0    # 1cm = 17.4 arcmin\n",
    "    \n",
    "    #Hyperboloid\n",
    "    Hx, Hy = [], []\n",
    "    for ray in Hrays:\n",
    "        Hx.append(ray.pos[0]*sim_scale)\n",
    "        Hy.append(ray.pos[1]*sim_scale)\n",
    "    All_Hx.append(Hx)\n",
    "    All_Hy.append(Hy)\n",
    "        \n",
    "    # Paraboloid\n",
    "    Px, Py = [], []\n",
    "    for ray in Prays:\n",
    "        Px.append(ray.pos[0]*sim_scale)\n",
    "        Py.append(ray.pos[1]*sim_scale)\n",
    "    All_Px.append(Px)\n",
    "    All_Py.append(Py)\n",
    "        \n",
    "    # Double\n",
    "    Dx, Dy = [], []\n",
    "    for ray in Drays:\n",
    "        Dx.append(ray.pos[0]*sim_scale)\n",
    "        Dy.append(ray.pos[1]*sim_scale)\n",
    "    All_Dx.append(Dx)\n",
    "    All_Dy.append(Dy)\n",
    "\n",
    "                      "
   ]
  },
  {
   "cell_type": "code",
   "execution_count": 47,
   "metadata": {},
   "outputs": [],
   "source": [
    "Doubles, Hyp, Par = [], [], []\n",
    "for i, f in enumerate(factor):\n",
    "    Doubles.append(len(All_Drays[i]))\n",
    "    Hyp.append(len(All_Hrays[i]))\n",
    "    Par.append(len(All_Prays[i]))"
   ]
  },
  {
   "cell_type": "code",
   "execution_count": null,
   "metadata": {},
   "outputs": [],
   "source": []
  },
  {
   "cell_type": "code",
   "execution_count": 72,
   "metadata": {},
   "outputs": [
    {
     "data": {
      "text/plain": [
       "<matplotlib.legend.Legend at 0x1571e6dd8>"
      ]
     },
     "execution_count": 72,
     "metadata": {},
     "output_type": "execute_result"
    },
    {
     "data": {
      "image/png": "[encoded data removed]",
      "text/plain": [
       "<Figure size 864x576 with 1 Axes>"
      ]
     },
     "metadata": {
      "needs_background": "light"
     },
     "output_type": "display_data"
    }
   ],
   "source": [
    "fig = plt.figure(figsize=(12,8))\n",
    "plt.title(\"Ghost rays as a function of distance between mirrors [angle = 30']\",fontsize=20)\n",
    "plt.plot(factor,np.array(Hyp)/max(Hyp),'-or',label='Hyperboloids')\n",
    "plt.plot(factor,np.array(Par)/max(Hyp),'-ob',label='Paraboloids')\n",
    "plt.xticks(fontsize=18)\n",
    "plt.yticks(fontsize=18)\n",
    "plt.ylabel('Normaized ghost rays',fontsize=18)\n",
    "plt.xlabel('Normalized scale factor for shells [1.0 is actual size]',fontsize=18)\n",
    "plt.legend()"
   ]
  },
  {
   "cell_type": "markdown",
   "metadata": {},
   "source": [
    "## From here we see we need more resolution and also try some smaller than 1 factors."
   ]
  },
  {
   "cell_type": "markdown",
   "metadata": {},
   "source": [
    "I will try [0.90, 0.95, 1.00, 1.05, 1.10, 1.15, 1.20, 1.25,1.30, 1.35, 1.40]"
   ]
  },
  {
   "cell_type": "code",
   "execution_count": 73,
   "metadata": {},
   "outputs": [],
   "source": [
    "factor = np.arange(0.90,1.45,.05) "
   ]
  },
  {
   "cell_type": "markdown",
   "metadata": {},
   "source": [
    "## Data for [0.90, 0.95, 1.00, 1.05, 1.10, 1.15, 1.20, 1.25,1.30, 1.35, 1.40] radii located at: "
   ]
  },
  {
   "cell_type": "code",
   "execution_count": null,
   "metadata": {},
   "outputs": [],
   "source": []
  },
  {
   "cell_type": "code",
   "execution_count": 2,
   "metadata": {},
   "outputs": [],
   "source": [
    "Dfolder = '/Users/Kamilobu/Desktop/Developer/Milo_FOXSI_Science/Paper_figures/rays_nested/F309R262/rays/'"
   ]
  },
  {
   "cell_type": "code",
   "execution_count": null,
   "metadata": {},
   "outputs": [],
   "source": []
  },
  {
   "cell_type": "code",
   "execution_count": null,
   "metadata": {},
   "outputs": [],
   "source": []
  },
  {
   "cell_type": "code",
   "execution_count": null,
   "metadata": {},
   "outputs": [],
   "source": []
  },
  {
   "cell_type": "code",
   "execution_count": null,
   "metadata": {},
   "outputs": [],
   "source": []
  },
  {
   "cell_type": "code",
   "execution_count": null,
   "metadata": {},
   "outputs": [],
   "source": []
  },
  {
   "cell_type": "code",
   "execution_count": null,
   "metadata": {},
   "outputs": [],
   "source": []
  },
  {
   "cell_type": "code",
   "execution_count": null,
   "metadata": {},
   "outputs": [],
   "source": []
  },
  {
   "cell_type": "code",
   "execution_count": null,
   "metadata": {},
   "outputs": [],
   "source": []
  },
  {
   "cell_type": "code",
   "execution_count": null,
   "metadata": {},
   "outputs": [],
   "source": []
  },
  {
   "cell_type": "code",
   "execution_count": null,
   "metadata": {},
   "outputs": [],
   "source": []
  }
 ],
 "metadata": {
  "kernelspec": {
   "display_name": "Python 3",
   "language": "python",
   "name": "python3"
  },
  "language_info": {
   "codemirror_mode": {
    "name": "ipython",
    "version": 3
   },
   "file_extension": ".py",
   "mimetype": "text/x-python",
   "name": "python",
   "nbconvert_exporter": "python",
   "pygments_lexer": "ipython3",
   "version": "3.5.5"
  }
 },
 "nbformat": 4,
 "nbformat_minor": 2
}
