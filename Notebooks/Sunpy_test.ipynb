{
 "cells": [
  {
   "cell_type": "markdown",
   "metadata": {},
   "source": [
    "# Sunpy 0.9 what's new?"
   ]
  },
  {
   "cell_type": "code",
   "execution_count": 1,
   "metadata": {},
   "outputs": [],
   "source": [
    "import sunpy "
   ]
  },
  {
   "cell_type": "code",
   "execution_count": 2,
   "metadata": {},
   "outputs": [],
   "source": [
    "from sunpy.net import Fido"
   ]
  },
  {
   "cell_type": "code",
   "execution_count": 3,
   "metadata": {},
   "outputs": [],
   "source": [
    "from sunpy.net import attrs as a"
   ]
  },
  {
   "cell_type": "code",
   "execution_count": 5,
   "metadata": {},
   "outputs": [],
   "source": [
    "result = Fido.search(a.jsoc.Time('2014-01-01T00:00:00', '2014-01-01T01:00:00'), a.jsoc.Series('hmi.v_45s'), a.jsoc.Notify('me@email.org'))"
   ]
  },
  {
   "cell_type": "code",
   "execution_count": 6,
   "metadata": {},
   "outputs": [
    {
     "data": {
      "text/html": [
       "Results from 1 Provider:</br></br>81 Results from the JSOCClient:</br><i>Table length=81</i>\n",
       "<table id=\"table4860635736\" class=\"table-striped table-bordered table-condensed\">\n",
       "<thead><tr><th>T_REC</th><th>TELESCOP</th><th>INSTRUME</th><th>WAVELNTH</th><th>CAR_ROT</th></tr></thead>\n",
       "<thead><tr><th>str23</th><th>str7</th><th>str10</th><th>float64</th><th>int64</th></tr></thead>\n",
       "<tr><td>2014.01.01_00:00:45_TAI</td><td>SDO/HMI</td><td>HMI_FRONT2</td><td>6173.0</td><td>2145</td></tr>\n",
       "<tr><td>2014.01.01_00:01:30_TAI</td><td>SDO/HMI</td><td>HMI_FRONT2</td><td>6173.0</td><td>2145</td></tr>\n",
       "<tr><td>2014.01.01_00:02:15_TAI</td><td>SDO/HMI</td><td>HMI_FRONT2</td><td>6173.0</td><td>2145</td></tr>\n",
       "<tr><td>2014.01.01_00:03:00_TAI</td><td>SDO/HMI</td><td>HMI_FRONT2</td><td>6173.0</td><td>2145</td></tr>\n",
       "<tr><td>2014.01.01_00:03:45_TAI</td><td>SDO/HMI</td><td>HMI_FRONT2</td><td>6173.0</td><td>2145</td></tr>\n",
       "<tr><td>2014.01.01_00:04:30_TAI</td><td>SDO/HMI</td><td>HMI_FRONT2</td><td>6173.0</td><td>2145</td></tr>\n",
       "<tr><td>2014.01.01_00:05:15_TAI</td><td>SDO/HMI</td><td>HMI_FRONT2</td><td>6173.0</td><td>2145</td></tr>\n",
       "<tr><td>2014.01.01_00:06:00_TAI</td><td>SDO/HMI</td><td>HMI_FRONT2</td><td>6173.0</td><td>2145</td></tr>\n",
       "<tr><td>2014.01.01_00:06:45_TAI</td><td>SDO/HMI</td><td>HMI_FRONT2</td><td>6173.0</td><td>2145</td></tr>\n",
       "<tr><td>2014.01.01_00:07:30_TAI</td><td>SDO/HMI</td><td>HMI_FRONT2</td><td>6173.0</td><td>2145</td></tr>\n",
       "<tr><td>...</td><td>...</td><td>...</td><td>...</td><td>...</td></tr>\n",
       "<tr><td>2014.01.01_00:54:00_TAI</td><td>SDO/HMI</td><td>HMI_FRONT2</td><td>6173.0</td><td>2145</td></tr>\n",
       "<tr><td>2014.01.01_00:54:45_TAI</td><td>SDO/HMI</td><td>HMI_FRONT2</td><td>6173.0</td><td>2145</td></tr>\n",
       "<tr><td>2014.01.01_00:55:30_TAI</td><td>SDO/HMI</td><td>HMI_FRONT2</td><td>6173.0</td><td>2145</td></tr>\n",
       "<tr><td>2014.01.01_00:56:15_TAI</td><td>SDO/HMI</td><td>HMI_FRONT2</td><td>6173.0</td><td>2145</td></tr>\n",
       "<tr><td>2014.01.01_00:57:00_TAI</td><td>SDO/HMI</td><td>HMI_FRONT2</td><td>6173.0</td><td>2145</td></tr>\n",
       "<tr><td>2014.01.01_00:57:45_TAI</td><td>SDO/HMI</td><td>HMI_FRONT2</td><td>6173.0</td><td>2145</td></tr>\n",
       "<tr><td>2014.01.01_00:58:30_TAI</td><td>SDO/HMI</td><td>HMI_FRONT2</td><td>6173.0</td><td>2145</td></tr>\n",
       "<tr><td>2014.01.01_00:59:15_TAI</td><td>SDO/HMI</td><td>HMI_FRONT2</td><td>6173.0</td><td>2145</td></tr>\n",
       "<tr><td>2014.01.01_01:00:00_TAI</td><td>SDO/HMI</td><td>HMI_FRONT2</td><td>6173.0</td><td>2145</td></tr>\n",
       "<tr><td>2014.01.01_01:00:45_TAI</td><td>SDO/HMI</td><td>HMI_FRONT2</td><td>6173.0</td><td>2145</td></tr>\n",
       "</table></br>"
      ],
      "text/plain": [
       "<sunpy.net.fido_factory.UnifiedResponse object at 0x121b76b70>\n",
       "Results from 1 Provider:\n",
       "\n",
       "81 Results from the JSOCClient:\n",
       "         T_REC          TELESCOP  INSTRUME  WAVELNTH CAR_ROT\n",
       "         str23            str7     str10    float64   int64 \n",
       "----------------------- -------- ---------- -------- -------\n",
       "2014.01.01_00:00:45_TAI  SDO/HMI HMI_FRONT2   6173.0    2145\n",
       "2014.01.01_00:01:30_TAI  SDO/HMI HMI_FRONT2   6173.0    2145\n",
       "2014.01.01_00:02:15_TAI  SDO/HMI HMI_FRONT2   6173.0    2145\n",
       "2014.01.01_00:03:00_TAI  SDO/HMI HMI_FRONT2   6173.0    2145\n",
       "2014.01.01_00:03:45_TAI  SDO/HMI HMI_FRONT2   6173.0    2145\n",
       "2014.01.01_00:04:30_TAI  SDO/HMI HMI_FRONT2   6173.0    2145\n",
       "2014.01.01_00:05:15_TAI  SDO/HMI HMI_FRONT2   6173.0    2145\n",
       "2014.01.01_00:06:00_TAI  SDO/HMI HMI_FRONT2   6173.0    2145\n",
       "2014.01.01_00:06:45_TAI  SDO/HMI HMI_FRONT2   6173.0    2145\n",
       "2014.01.01_00:07:30_TAI  SDO/HMI HMI_FRONT2   6173.0    2145\n",
       "                    ...      ...        ...      ...     ...\n",
       "2014.01.01_00:54:00_TAI  SDO/HMI HMI_FRONT2   6173.0    2145\n",
       "2014.01.01_00:54:45_TAI  SDO/HMI HMI_FRONT2   6173.0    2145\n",
       "2014.01.01_00:55:30_TAI  SDO/HMI HMI_FRONT2   6173.0    2145\n",
       "2014.01.01_00:56:15_TAI  SDO/HMI HMI_FRONT2   6173.0    2145\n",
       "2014.01.01_00:57:00_TAI  SDO/HMI HMI_FRONT2   6173.0    2145\n",
       "2014.01.01_00:57:45_TAI  SDO/HMI HMI_FRONT2   6173.0    2145\n",
       "2014.01.01_00:58:30_TAI  SDO/HMI HMI_FRONT2   6173.0    2145\n",
       "2014.01.01_00:59:15_TAI  SDO/HMI HMI_FRONT2   6173.0    2145\n",
       "2014.01.01_01:00:00_TAI  SDO/HMI HMI_FRONT2   6173.0    2145\n",
       "2014.01.01_01:00:45_TAI  SDO/HMI HMI_FRONT2   6173.0    2145\n"
      ]
     },
     "execution_count": 6,
     "metadata": {},
     "output_type": "execute_result"
    }
   ],
   "source": [
    "result"
   ]
  },
  {
   "cell_type": "code",
   "execution_count": 13,
   "metadata": {},
   "outputs": [],
   "source": [
    "result = Fido.search(a.jsoc.Time('2014-01-01T00:00:00', '2014-01-01T01:00:00'), a.jsoc.Series('aia.lev1_euv_12s'), a.jsoc.Notify('milo@ssl.berkeley.edu'), a.jsoc.PrimeKey('WAVELNTH', '171'))\n",
    "\n",
    "\n"
   ]
  },
  {
   "cell_type": "code",
   "execution_count": 14,
   "metadata": {},
   "outputs": [
    {
     "data": {
      "text/html": [
       "Results from 1 Provider:</br></br>301 Results from the JSOCClient:</br><i>Table length=301</i>\n",
       "<table id=\"table4869958456\" class=\"table-striped table-bordered table-condensed\">\n",
       "<thead><tr><th>T_REC</th><th>TELESCOP</th><th>INSTRUME</th><th>WAVELNTH</th><th>CAR_ROT</th></tr></thead>\n",
       "<thead><tr><th>str20</th><th>str7</th><th>str5</th><th>int64</th><th>int64</th></tr></thead>\n",
       "<tr><td>2014-01-01T00:00:01Z</td><td>SDO/AIA</td><td>AIA_3</td><td>171</td><td>2145</td></tr>\n",
       "<tr><td>2014-01-01T00:00:13Z</td><td>SDO/AIA</td><td>AIA_3</td><td>171</td><td>2145</td></tr>\n",
       "<tr><td>2014-01-01T00:00:25Z</td><td>SDO/AIA</td><td>AIA_3</td><td>171</td><td>2145</td></tr>\n",
       "<tr><td>2014-01-01T00:00:37Z</td><td>SDO/AIA</td><td>AIA_3</td><td>171</td><td>2145</td></tr>\n",
       "<tr><td>2014-01-01T00:00:49Z</td><td>SDO/AIA</td><td>AIA_3</td><td>171</td><td>2145</td></tr>\n",
       "<tr><td>2014-01-01T00:01:01Z</td><td>SDO/AIA</td><td>AIA_3</td><td>171</td><td>2145</td></tr>\n",
       "<tr><td>2014-01-01T00:01:13Z</td><td>SDO/AIA</td><td>AIA_3</td><td>171</td><td>2145</td></tr>\n",
       "<tr><td>2014-01-01T00:01:25Z</td><td>SDO/AIA</td><td>AIA_3</td><td>171</td><td>2145</td></tr>\n",
       "<tr><td>2014-01-01T00:01:37Z</td><td>SDO/AIA</td><td>AIA_3</td><td>171</td><td>2145</td></tr>\n",
       "<tr><td>2014-01-01T00:01:49Z</td><td>SDO/AIA</td><td>AIA_3</td><td>171</td><td>2145</td></tr>\n",
       "<tr><td>...</td><td>...</td><td>...</td><td>...</td><td>...</td></tr>\n",
       "<tr><td>2014-01-01T00:58:13Z</td><td>SDO/AIA</td><td>AIA_3</td><td>171</td><td>2145</td></tr>\n",
       "<tr><td>2014-01-01T00:58:25Z</td><td>SDO/AIA</td><td>AIA_3</td><td>171</td><td>2145</td></tr>\n",
       "<tr><td>2014-01-01T00:58:37Z</td><td>SDO/AIA</td><td>AIA_3</td><td>171</td><td>2145</td></tr>\n",
       "<tr><td>2014-01-01T00:58:49Z</td><td>SDO/AIA</td><td>AIA_3</td><td>171</td><td>2145</td></tr>\n",
       "<tr><td>2014-01-01T00:59:01Z</td><td>SDO/AIA</td><td>AIA_3</td><td>171</td><td>2145</td></tr>\n",
       "<tr><td>2014-01-01T00:59:13Z</td><td>SDO/AIA</td><td>AIA_3</td><td>171</td><td>2145</td></tr>\n",
       "<tr><td>2014-01-01T00:59:25Z</td><td>SDO/AIA</td><td>AIA_3</td><td>171</td><td>2145</td></tr>\n",
       "<tr><td>2014-01-01T00:59:37Z</td><td>SDO/AIA</td><td>AIA_3</td><td>171</td><td>2145</td></tr>\n",
       "<tr><td>2014-01-01T00:59:49Z</td><td>SDO/AIA</td><td>AIA_3</td><td>171</td><td>2145</td></tr>\n",
       "<tr><td>2014-01-01T01:00:01Z</td><td>SDO/AIA</td><td>AIA_3</td><td>171</td><td>2145</td></tr>\n",
       "</table></br>"
      ],
      "text/plain": [
       "<sunpy.net.fido_factory.UnifiedResponse object at 0x121bcfc50>\n",
       "Results from 1 Provider:\n",
       "\n",
       "301 Results from the JSOCClient:\n",
       "       T_REC         TELESCOP INSTRUME WAVELNTH CAR_ROT\n",
       "       str20           str7     str5    int64    int64 \n",
       "-------------------- -------- -------- -------- -------\n",
       "2014-01-01T00:00:01Z  SDO/AIA    AIA_3      171    2145\n",
       "2014-01-01T00:00:13Z  SDO/AIA    AIA_3      171    2145\n",
       "2014-01-01T00:00:25Z  SDO/AIA    AIA_3      171    2145\n",
       "2014-01-01T00:00:37Z  SDO/AIA    AIA_3      171    2145\n",
       "2014-01-01T00:00:49Z  SDO/AIA    AIA_3      171    2145\n",
       "2014-01-01T00:01:01Z  SDO/AIA    AIA_3      171    2145\n",
       "2014-01-01T00:01:13Z  SDO/AIA    AIA_3      171    2145\n",
       "2014-01-01T00:01:25Z  SDO/AIA    AIA_3      171    2145\n",
       "2014-01-01T00:01:37Z  SDO/AIA    AIA_3      171    2145\n",
       "2014-01-01T00:01:49Z  SDO/AIA    AIA_3      171    2145\n",
       "                 ...      ...      ...      ...     ...\n",
       "2014-01-01T00:58:13Z  SDO/AIA    AIA_3      171    2145\n",
       "2014-01-01T00:58:25Z  SDO/AIA    AIA_3      171    2145\n",
       "2014-01-01T00:58:37Z  SDO/AIA    AIA_3      171    2145\n",
       "2014-01-01T00:58:49Z  SDO/AIA    AIA_3      171    2145\n",
       "2014-01-01T00:59:01Z  SDO/AIA    AIA_3      171    2145\n",
       "2014-01-01T00:59:13Z  SDO/AIA    AIA_3      171    2145\n",
       "2014-01-01T00:59:25Z  SDO/AIA    AIA_3      171    2145\n",
       "2014-01-01T00:59:37Z  SDO/AIA    AIA_3      171    2145\n",
       "2014-01-01T00:59:49Z  SDO/AIA    AIA_3      171    2145\n",
       "2014-01-01T01:00:01Z  SDO/AIA    AIA_3      171    2145\n"
      ]
     },
     "execution_count": 14,
     "metadata": {},
     "output_type": "execute_result"
    }
   ],
   "source": [
    "result"
   ]
  },
  {
   "cell_type": "code",
   "execution_count": null,
   "metadata": {},
   "outputs": [],
   "source": [
    "files = Fido.fetch(result)"
   ]
  },
  {
   "cell_type": "code",
   "execution_count": null,
   "metadata": {},
   "outputs": [],
   "source": []
  },
  {
   "cell_type": "code",
   "execution_count": null,
   "metadata": {},
   "outputs": [],
   "source": []
  },
  {
   "cell_type": "code",
   "execution_count": null,
   "metadata": {},
   "outputs": [],
   "source": []
  },
  {
   "cell_type": "code",
   "execution_count": null,
   "metadata": {},
   "outputs": [],
   "source": []
  },
  {
   "cell_type": "code",
   "execution_count": null,
   "metadata": {},
   "outputs": [],
   "source": []
  },
  {
   "cell_type": "code",
   "execution_count": null,
   "metadata": {},
   "outputs": [],
   "source": []
  },
  {
   "cell_type": "code",
   "execution_count": null,
   "metadata": {},
   "outputs": [],
   "source": []
  },
  {
   "cell_type": "code",
   "execution_count": null,
   "metadata": {},
   "outputs": [],
   "source": []
  },
  {
   "cell_type": "code",
   "execution_count": null,
   "metadata": {},
   "outputs": [],
   "source": []
  },
  {
   "cell_type": "code",
   "execution_count": null,
   "metadata": {},
   "outputs": [],
   "source": []
  },
  {
   "cell_type": "code",
   "execution_count": null,
   "metadata": {},
   "outputs": [],
   "source": []
  },
  {
   "cell_type": "code",
   "execution_count": null,
   "metadata": {},
   "outputs": [],
   "source": []
  },
  {
   "cell_type": "code",
   "execution_count": null,
   "metadata": {},
   "outputs": [],
   "source": []
  },
  {
   "cell_type": "code",
   "execution_count": null,
   "metadata": {},
   "outputs": [],
   "source": []
  },
  {
   "cell_type": "code",
   "execution_count": null,
   "metadata": {},
   "outputs": [],
   "source": []
  }
 ],
 "metadata": {
  "kernelspec": {
   "display_name": "Python 3",
   "language": "python",
   "name": "python3"
  },
  "language_info": {
   "codemirror_mode": {
    "name": "ipython",
    "version": 3
   },
   "file_extension": ".py",
   "mimetype": "text/x-python",
   "name": "python",
   "nbconvert_exporter": "python",
   "pygments_lexer": "ipython3",
   "version": "3.6.5"
  }
 },
 "nbformat": 4,
 "nbformat_minor": 2
}
