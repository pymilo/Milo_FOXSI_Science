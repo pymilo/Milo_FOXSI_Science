{
 "cells": [
  {
   "cell_type": "markdown",
   "metadata": {},
   "source": [
    "Milo @Berkeley - May 2019\n",
    "\n",
    "### Goal:\n",
    "To find AIA-FeXVIII brightenings on Athiray region using Kobelski method."
   ]
  },
  {
   "cell_type": "markdown",
   "metadata": {
    "heading_collapsed": true
   },
   "source": [
    "## Kobelski Method:"
   ]
  },
  {
   "cell_type": "markdown",
   "metadata": {
    "hidden": true
   },
   "source": [
    "**Kobelski, McKenzie and Donachie [2014]**:  <br>\n",
    "http://iopscience.iop.org/article/10.1088/0004-637X/786/2/82/pdf <br>\n",
    "The detection algorithm is based on the method of Berghmans & Clette (1999), which looks for enhancements in the observed flux on a pixel by pixel basis. Enhancements in neighboring pixels are then grouped together and defined as an ARTB. <br><br/>\n",
    "\n",
    "This approach involves subtracting a running mean from the time profile of brightness in each pixel, then looking for residuals larger than a predefined threshold, typically three standard deviations.<br><br/>\n",
    "\n",
    "After calibration and co-alignment, a running mean of the image stack is created by applying a temporal boxcar smoothing of width $\\omega_{rm}$. This temporally smoothed version of the image is then subtracted from the original image, resulting in a residual with the mean removed.\n",
    "The next step is to determine the standard deviation of the light curves for each pixel in the image stack, which is used to make a ratio between the residual and the standard deviation. The “brightest” pixel in this ratio is determined to be an ARTB as long as it is greater than $q_D$, the detection threshold. All pixels in the ratio array that are larger than a second threshold, $q_C$ , are then checked for connectivity to the $q_D$ point.<br><br/>\n",
    "A good $\\omega_{rm}$ to start is $\\approx 10$ min."
   ]
  },
  {
   "cell_type": "markdown",
   "metadata": {
    "hidden": true
   },
   "source": [
    "Athiray considered Target1 Pos 2 - 19:13:47 to 19:14:25 for this study, where microflare-1 was mostly on-axis. For variance calculation in Fe18 map use this time interval. Consider the region in the map around microflare-1 say xrange = [-45,105], yrange=[-295,-145]. "
   ]
  },
  {
   "cell_type": "markdown",
   "metadata": {
    "heading_collapsed": true
   },
   "source": [
    "## Imports:"
   ]
  },
  {
   "cell_type": "code",
   "execution_count": 1,
   "metadata": {
    "hidden": true
   },
   "outputs": [],
   "source": [
    "import glob\n",
    "from sunpy.map import Map\n",
    "from sunpy.time import TimeRange\n",
    "from astropy.io import fits\n",
    "from astropy.wcs import WCS\n",
    "import astropy.units as u\n",
    "from astropy.coordinates import SkyCoord\n",
    "import matplotlib.pyplot as plt\n",
    "import matplotlib.patches as patches\n",
    "import matplotlib as mpl\n",
    "mpl.rc('axes',labelsize=14)\n",
    "mpl.rc('xtick',labelsize=12)\n",
    "mpl.rc('ytick',labelsize=12)\n",
    "import numpy as np\n",
    "import ipywidgets as widgets\n",
    "%matplotlib inline\n",
    "from ndcube import NDCube, NDCubeSequence\n",
    "from sunpy import cm"
   ]
  },
  {
   "cell_type": "markdown",
   "metadata": {
    "heading_collapsed": true
   },
   "source": [
    "## FOXSI2 Definitions:"
   ]
  },
  {
   "cell_type": "code",
   "execution_count": 2,
   "metadata": {
    "hidden": true
   },
   "outputs": [],
   "source": [
    "Ftarget = {'cen1_pos0':(359.0, -431.0), # arcsec\n",
    "           'cen1_pos1':(-1.0, -431.0),\n",
    "           'cen1_pos2':(-1.0, -251.0),\n",
    "           'cen2_pos0':(-1.0, -281.0),\n",
    "           'cen2_pos1':(-390.0, -281.0),\n",
    "           'cen3_pos0':(1210.5, -431.5),\n",
    "           'cen3_pos1':(850.0, -431.5),\n",
    "           'cen3_pos2':(850.0, -251.0),\n",
    "           'cen4':(200.0, 750.0),\n",
    "           'cen5':(0.0, -251.0),\n",
    "           'cen_Iris':(11,-260),\n",
    "           'athiray':(30,-220)}\n",
    "Ftimes = {'cen1_pos0': TimeRange(['2014-12-11 19:12:42', '2014-12-11 19:13:14.3']),\n",
    "            'cen1_pos1':TimeRange(['2014-12-11 19:13:18','2014-12-11 19:13:42.6']),\n",
    "            'cen1_pos2':TimeRange(['2014-12-11 19:13:46.5','2014-12-11 19:14:25']),\n",
    "            'cen2_pos0':TimeRange(['2014-12-11 19:14:29','2014-12-11 19:14:39.6']),\n",
    "            'cen2_pos1':TimeRange(['2014-12-11 19:14:44','2014-12-11 19:15:36.7']),\n",
    "            'cen3_pos0':TimeRange(['2014-12-11 19:15:40.6','2014-12-11 19:16:07.2']),\n",
    "            'cen3_pos1':TimeRange(['2014-12-11 19:16:11','2014-12-11 19:16:30.1']),\n",
    "            'cen3_pos2':TimeRange(['2014-12-11 19:16:34','2014-12-11 19:17:09.2']),\n",
    "            'cen4':TimeRange(['2014-12-11 19:17:13.5','2014-12-11 19:18:46.2']),\n",
    "            'cen5':TimeRange(['2014-12-11 19:18:50.5','2014-12-11 19:19:23.2']),\n",
    "            't_shtr':TimeRange(['2014-12-11 19:18:18','2014-12-11 19:18:22']),\n",
    "            'Iris_Obs':TimeRange(['2014-12-11 19:12:22','2014-12-11 19:39:01'])}\n",
    "fov = (1000,1000) # arcsec\n",
    "athirayfov = [150,150] #arcsec"
   ]
  },
  {
   "cell_type": "markdown",
   "metadata": {
    "heading_collapsed": true
   },
   "source": [
    "## Reading AIA Data:"
   ]
  },
  {
   "cell_type": "code",
   "execution_count": 3,
   "metadata": {
    "hidden": true
   },
   "outputs": [],
   "source": [
    "data_dir = '/Volumes/Pandora/FOXSI/AIA/'\n",
    "str_indices = {'94':'', '131':'', '171':'', '193':'', '211':'', '304':'', '335':'', '1600':'', '1700':''}\n",
    "file_list = {}\n",
    "for key in str_indices:\n",
    "    file_list.update({key: glob.glob(data_dir + '*' + key + '*.fits')})\n",
    "    file_list[key]=sorted(file_list[key])"
   ]
  },
  {
   "cell_type": "code",
   "execution_count": 4,
   "metadata": {
    "hidden": true
   },
   "outputs": [],
   "source": [
    "F_AIA171 = file_list['171']#[42:83]\n",
    "F_AIA211 = file_list['211']#[45:86]\n",
    "\n",
    "#F_AIA171 = file_list['171'][52:83]\n",
    "#F_AIA211 = file_list['211'][56:87]\n",
    "mapsFe18 = []\n",
    "for f171, f211 in zip(F_AIA171,F_AIA211):\n",
    "    m171  = Map(f171)\n",
    "    m211  = Map(f211)\n",
    "    mFe18 = Map(f171)\n",
    "    mFe18.data[:] = m211.data[:]/-120 + m171.data[:]/-450    \n",
    "    ## Co-rotating maps:\n",
    "    top_right =   SkyCoord((Ftarget['athiray'][0] + athirayfov[0]/2) * u.arcsec, \n",
    "                           (Ftarget['athiray'][1] + athirayfov[1]/2) * u.arcsec, frame=mFe18.coordinate_frame)\n",
    "    bottom_left = SkyCoord((Ftarget['athiray'][0] - athirayfov[0]/2) * u.arcsec, \n",
    "                           (Ftarget['athiray'][1] - athirayfov[1]/2) * u.arcsec,frame=mFe18.coordinate_frame)\n",
    "    submap = mFe18.submap(bottom_left, top_right)\n",
    "    mapsFe18.append(submap)"
   ]
  },
  {
   "cell_type": "markdown",
   "metadata": {
    "heading_collapsed": true
   },
   "source": [
    "## FeXVIII Movie"
   ]
  },
  {
   "cell_type": "code",
   "execution_count": 5,
   "metadata": {
    "hidden": true
   },
   "outputs": [],
   "source": [
    "def allfov(t):\n",
    "    fig, ax = plt.subplots(figsize=(10,10));\n",
    "    mapsFe18[t].plot(vmin=-35,cmap='gnuplot2',title='FeXVIII    '+F_AIA171[t][41:63])\n",
    "    rect = patches.Rectangle((-45,-295),150,150,linewidth=1,edgecolor='r',facecolor='none')\n",
    "    ax.add_patch(rect)\n",
    "    plt.colorbar()"
   ]
  },
  {
   "cell_type": "code",
   "execution_count": 6,
   "metadata": {
    "hidden": true
   },
   "outputs": [
    {
     "data": {
      "application/vnd.jupyter.widget-view+json": {
       "model_id": "fbe223a90274444ca9c310a0b2d53f86",
       "version_major": 2,
       "version_minor": 0
      },
      "text/plain": [
       "interactive(children=(IntSlider(value=70, description='t', max=84, min=56), Output()), _dom_classes=('widget-i…"
      ]
     },
     "metadata": {},
     "output_type": "display_data"
    }
   ],
   "source": [
    "l = 12\n",
    "widgets.interact(allfov, t=(68-l,72+l));"
   ]
  },
  {
   "cell_type": "markdown",
   "metadata": {
    "heading_collapsed": true
   },
   "source": [
    "## Run differences Athiray's FOV:"
   ]
  },
  {
   "cell_type": "code",
   "execution_count": 7,
   "metadata": {
    "hidden": true
   },
   "outputs": [],
   "source": [
    "import copy\n",
    "diff = copy.deepcopy(mapsFe18)\n",
    "for d in range (1,len(diff[1:])):\n",
    "    diff[d].data[:] = mapsFe18[d].data[:] - mapsFe18[d-1].data[:]"
   ]
  },
  {
   "cell_type": "code",
   "execution_count": 8,
   "metadata": {
    "hidden": true
   },
   "outputs": [
    {
     "data": {
      "application/vnd.jupyter.widget-view+json": {
       "model_id": "8dc78df76f3b4c37b975b9e440a6d354",
       "version_major": 2,
       "version_minor": 0
      },
      "text/plain": [
       "interactive(children=(IntSlider(value=70, description='t', max=84, min=56), Output()), _dom_classes=('widget-i…"
      ]
     },
     "metadata": {},
     "output_type": "display_data"
    }
   ],
   "source": [
    "def difffov(t):\n",
    "    fig, ax = plt.subplots(figsize=(10,10));\n",
    "    diff[t].plot(cmap='gnuplot2',title='FeXVIII    '+F_AIA171[t][41:63],vmin=-5,vmax=0)\n",
    "    rect = patches.Rectangle((-45,-295),150,150,linewidth=1,edgecolor='r',facecolor='none')\n",
    "    ax.add_patch(rect)\n",
    "    plt.colorbar()\n",
    "## Run Widget:\n",
    "l = 12\n",
    "widgets.interact(difffov, t=(68-l,72+l));"
   ]
  },
  {
   "cell_type": "markdown",
   "metadata": {},
   "source": [
    "## Mean, STD, neighbours functions:"
   ]
  },
  {
   "cell_type": "code",
   "execution_count": 9,
   "metadata": {},
   "outputs": [],
   "source": [
    "def mean(cmaps):\n",
    "    \"\"\"\n",
    "    Calculate the average of the data array.\n",
    "    \"\"\"\n",
    "    _meta = []\n",
    "    for i, m in enumerate(cmaps):\n",
    "        _meta.append(m.meta)\n",
    "    data = np.zeros((cmaps[0].data.shape[0], cmaps[0].data.shape[1], len(cmaps)), dtype=cmaps[0].data.dtype)\n",
    "    for i, m in enumerate(cmaps):\n",
    "        data[:, :, i] = m.data\n",
    "    return Map(np.mean(data, axis=2), _meta[1])\n",
    "\n",
    "def std(cmaps):\n",
    "    \"\"\"\n",
    "    Calculate the standard deviation of the data array.\n",
    "    \"\"\"\n",
    "    _meta = []\n",
    "    for i, m in enumerate(cmaps):\n",
    "        _meta.append(m.meta)\n",
    "    data = np.zeros((cmaps[0].data.shape[0], cmaps[0].data.shape[1], len(cmaps)), dtype=cmaps[0].data.dtype)\n",
    "    for i, m in enumerate(cmaps):\n",
    "        data[:, :, i] = m.data\n",
    "    return Map(np.std(data, axis=2), _meta[1])\n",
    "\n",
    "def get_neighbours2(data, cell):\n",
    "    \"\"\"Find the neighbouring values for the cell in the 'data' list\n",
    "           data : A homogenous 2d list (i.e. all rows are the same length)\n",
    "       cell : A 2-tuple with row, column in order\n",
    "    \"\"\"\n",
    "    neighbours = []\n",
    "    row, col = cell[0], cell[1]\n",
    "    row_max = len(data) # Get upper bound of row length\n",
    "    col_max = len(data[0])\n",
    " \n",
    "    return [data[row_d + row][col_d + col]\n",
    "    for col_d in [-1,0,1]\n",
    "        if (0 <= (col_d + col) < col_max) or (col_d == 0 and row_d==0)\n",
    "    for row_d in [-1,0,1]\n",
    "    if 0 <= (row_d + row) < row_max ]"
   ]
  },
  {
   "cell_type": "markdown",
   "metadata": {
    "heading_collapsed": true
   },
   "source": [
    "## Check this since I have to load more data than the one I aldready have"
   ]
  },
  {
   "cell_type": "code",
   "execution_count": 10,
   "metadata": {
    "hidden": true
   },
   "outputs": [
    {
     "ename": "IndexError",
     "evalue": "list index out of range",
     "output_type": "error",
     "traceback": [
      "\u001b[0;31m---------------------------------------------------------------------------\u001b[0m",
      "\u001b[0;31mIndexError\u001b[0m                                Traceback (most recent call last)",
      "\u001b[0;32m<ipython-input-10-2ef05b5f9a06>\u001b[0m in \u001b[0;36m<module>\u001b[0;34m\u001b[0m\n\u001b[1;32m      6\u001b[0m \u001b[0;32mfor\u001b[0m \u001b[0mi\u001b[0m \u001b[0;32min\u001b[0m \u001b[0mrange\u001b[0m\u001b[0;34m(\u001b[0m\u001b[0;36m0\u001b[0m\u001b[0;34m,\u001b[0m\u001b[0;36m40\u001b[0m\u001b[0;34m)\u001b[0m\u001b[0;34m:\u001b[0m\u001b[0;34m\u001b[0m\u001b[0m\n\u001b[1;32m      7\u001b[0m     \u001b[0mmaps_i\u001b[0m \u001b[0;34m=\u001b[0m \u001b[0mmapsFe18\u001b[0m\u001b[0;34m[\u001b[0m\u001b[0mi\u001b[0m\u001b[0;34m-\u001b[0m\u001b[0mwrm\u001b[0m\u001b[0;34m//\u001b[0m\u001b[0;36m2\u001b[0m\u001b[0;34m:\u001b[0m\u001b[0mi\u001b[0m\u001b[0;34m+\u001b[0m\u001b[0mwrm\u001b[0m\u001b[0;34m//\u001b[0m\u001b[0;36m2\u001b[0m\u001b[0;34m]\u001b[0m   \u001b[0;31m# Takes wrm 'frames' around frame i\u001b[0m\u001b[0;34m\u001b[0m\u001b[0m\n\u001b[0;32m----> 8\u001b[0;31m     \u001b[0mmean_i\u001b[0m \u001b[0;34m=\u001b[0m \u001b[0mmean\u001b[0m\u001b[0;34m(\u001b[0m\u001b[0mmaps_i\u001b[0m\u001b[0;34m)\u001b[0m \u001b[0;31m# Calculates the mean around i\u001b[0m\u001b[0;34m\u001b[0m\u001b[0m\n\u001b[0m\u001b[1;32m      9\u001b[0m     \u001b[0mresidual_i\u001b[0m \u001b[0;34m=\u001b[0m \u001b[0;34m(\u001b[0m\u001b[0mmapsFe18\u001b[0m\u001b[0;34m[\u001b[0m\u001b[0mi\u001b[0m\u001b[0;34m]\u001b[0m\u001b[0;34m.\u001b[0m\u001b[0mdata\u001b[0m \u001b[0;34m-\u001b[0m \u001b[0mmean_i\u001b[0m\u001b[0;34m.\u001b[0m\u001b[0mdata\u001b[0m\u001b[0;34m)\u001b[0m \u001b[0;31m# residual data\u001b[0m\u001b[0;34m\u001b[0m\u001b[0m\n\u001b[1;32m     10\u001b[0m     \u001b[0mstd_i\u001b[0m \u001b[0;34m=\u001b[0m \u001b[0mstd\u001b[0m\u001b[0;34m(\u001b[0m\u001b[0mmapsFe18\u001b[0m\u001b[0;34m[\u001b[0m\u001b[0mi\u001b[0m\u001b[0;34m-\u001b[0m\u001b[0mwrm\u001b[0m\u001b[0;34m//\u001b[0m\u001b[0;36m2\u001b[0m\u001b[0;34m:\u001b[0m\u001b[0mi\u001b[0m\u001b[0;34m+\u001b[0m\u001b[0mwrm\u001b[0m\u001b[0;34m//\u001b[0m\u001b[0;36m2\u001b[0m\u001b[0;34m]\u001b[0m\u001b[0;34m)\u001b[0m\u001b[0;34m.\u001b[0m\u001b[0mdata\u001b[0m \u001b[0;31m# STD\u001b[0m\u001b[0;34m\u001b[0m\u001b[0m\n",
      "\u001b[0;32m<ipython-input-9-8c5bdf58d8a3>\u001b[0m in \u001b[0;36mmean\u001b[0;34m(cmaps)\u001b[0m\n\u001b[1;32m      6\u001b[0m     \u001b[0;32mfor\u001b[0m \u001b[0mi\u001b[0m\u001b[0;34m,\u001b[0m \u001b[0mm\u001b[0m \u001b[0;32min\u001b[0m \u001b[0menumerate\u001b[0m\u001b[0;34m(\u001b[0m\u001b[0mcmaps\u001b[0m\u001b[0;34m)\u001b[0m\u001b[0;34m:\u001b[0m\u001b[0;34m\u001b[0m\u001b[0m\n\u001b[1;32m      7\u001b[0m         \u001b[0m_meta\u001b[0m\u001b[0;34m.\u001b[0m\u001b[0mappend\u001b[0m\u001b[0;34m(\u001b[0m\u001b[0mm\u001b[0m\u001b[0;34m.\u001b[0m\u001b[0mmeta\u001b[0m\u001b[0;34m)\u001b[0m\u001b[0;34m\u001b[0m\u001b[0m\n\u001b[0;32m----> 8\u001b[0;31m     \u001b[0mdata\u001b[0m \u001b[0;34m=\u001b[0m \u001b[0mnp\u001b[0m\u001b[0;34m.\u001b[0m\u001b[0mzeros\u001b[0m\u001b[0;34m(\u001b[0m\u001b[0;34m(\u001b[0m\u001b[0mcmaps\u001b[0m\u001b[0;34m[\u001b[0m\u001b[0;36m0\u001b[0m\u001b[0;34m]\u001b[0m\u001b[0;34m.\u001b[0m\u001b[0mdata\u001b[0m\u001b[0;34m.\u001b[0m\u001b[0mshape\u001b[0m\u001b[0;34m[\u001b[0m\u001b[0;36m0\u001b[0m\u001b[0;34m]\u001b[0m\u001b[0;34m,\u001b[0m \u001b[0mcmaps\u001b[0m\u001b[0;34m[\u001b[0m\u001b[0;36m0\u001b[0m\u001b[0;34m]\u001b[0m\u001b[0;34m.\u001b[0m\u001b[0mdata\u001b[0m\u001b[0;34m.\u001b[0m\u001b[0mshape\u001b[0m\u001b[0;34m[\u001b[0m\u001b[0;36m1\u001b[0m\u001b[0;34m]\u001b[0m\u001b[0;34m,\u001b[0m \u001b[0mlen\u001b[0m\u001b[0;34m(\u001b[0m\u001b[0mcmaps\u001b[0m\u001b[0;34m)\u001b[0m\u001b[0;34m)\u001b[0m\u001b[0;34m,\u001b[0m \u001b[0mdtype\u001b[0m\u001b[0;34m=\u001b[0m\u001b[0mcmaps\u001b[0m\u001b[0;34m[\u001b[0m\u001b[0;36m0\u001b[0m\u001b[0;34m]\u001b[0m\u001b[0;34m.\u001b[0m\u001b[0mdata\u001b[0m\u001b[0;34m.\u001b[0m\u001b[0mdtype\u001b[0m\u001b[0;34m)\u001b[0m\u001b[0;34m\u001b[0m\u001b[0m\n\u001b[0m\u001b[1;32m      9\u001b[0m     \u001b[0;32mfor\u001b[0m \u001b[0mi\u001b[0m\u001b[0;34m,\u001b[0m \u001b[0mm\u001b[0m \u001b[0;32min\u001b[0m \u001b[0menumerate\u001b[0m\u001b[0;34m(\u001b[0m\u001b[0mcmaps\u001b[0m\u001b[0;34m)\u001b[0m\u001b[0;34m:\u001b[0m\u001b[0;34m\u001b[0m\u001b[0m\n\u001b[1;32m     10\u001b[0m         \u001b[0mdata\u001b[0m\u001b[0;34m[\u001b[0m\u001b[0;34m:\u001b[0m\u001b[0;34m,\u001b[0m \u001b[0;34m:\u001b[0m\u001b[0;34m,\u001b[0m \u001b[0mi\u001b[0m\u001b[0;34m]\u001b[0m \u001b[0;34m=\u001b[0m \u001b[0mm\u001b[0m\u001b[0;34m.\u001b[0m\u001b[0mdata\u001b[0m\u001b[0;34m\u001b[0m\u001b[0m\n",
      "\u001b[0;31mIndexError\u001b[0m: list index out of range"
     ]
    }
   ],
   "source": [
    "wrm = 44 # (int) time width - 44 frames is equivalent to 10 min\n",
    "qd = 4\n",
    "qc = 3\n",
    "smap,bright_maps,maps_qd,maps_qc = [],[],[],[]\n",
    "\n",
    "for i in range(0,40):\n",
    "    maps_i = mapsFe18[i-wrm//2:i+wrm//2]   # Takes wrm 'frames' around frame i\n",
    "    mean_i = mean(maps_i) # Calculates the mean around i\n",
    "    residual_i = (mapsFe18[i].data - mean_i.data) # residual data\n",
    "    std_i = std(mapsFe18[i-wrm//2:i+wrm//2]).data # STD \n",
    "    data_qd = (residual_i/std_i)\n",
    "    data_qd[np.where((residual_i/std_i)<=qd)] = 0.0 # Data under QD TH\n",
    "    data_qc = (residual_i/std_i)\n",
    "    data_qc[np.where((residual_i/std_i)<=qc)] = 0.0 # Data under QC TH\n",
    "    smap.append(mapsFe18[i])\n",
    "    maps_qd.append(Map(data_qd, mean_i.meta))\n",
    "    maps_qc.append(Map(data_qc, mean_i.meta))\n",
    "    bright_maps.append(Map(residual_i/std_i, mean_i.meta))"
   ]
  },
  {
   "cell_type": "markdown",
   "metadata": {},
   "source": [
    "## Test"
   ]
  },
  {
   "cell_type": "code",
   "execution_count": 14,
   "metadata": {},
   "outputs": [
    {
     "data": {
      "text/plain": [
       "'/Volumes/Pandora/FOXSI/AIA/aia_lev1_171a_2014_12_11t19_14_35_34z_image_lev1.fits'"
      ]
     },
     "execution_count": 14,
     "metadata": {},
     "output_type": "execute_result"
    }
   ],
   "source": [
    "file_list['171'][72]"
   ]
  },
  {
   "cell_type": "code",
   "execution_count": null,
   "metadata": {},
   "outputs": [],
   "source": [
    "19:13:47 to 19:14:25"
   ]
  },
  {
   "cell_type": "code",
   "execution_count": 12,
   "metadata": {},
   "outputs": [
    {
     "data": {
      "text/plain": [
       "['/Volumes/Pandora/FOXSI/AIA/aia_lev1_171a_2014_12_11t19_11_23_34z_image_lev1.fits',\n",
       " '/Volumes/Pandora/FOXSI/AIA/aia_lev1_171a_2014_12_11t19_11_35_34z_image_lev1.fits',\n",
       " '/Volumes/Pandora/FOXSI/AIA/aia_lev1_171a_2014_12_11t19_11_47_34z_image_lev1.fits',\n",
       " '/Volumes/Pandora/FOXSI/AIA/aia_lev1_171a_2014_12_11t19_11_59_34z_image_lev1.fits',\n",
       " '/Volumes/Pandora/FOXSI/AIA/aia_lev1_171a_2014_12_11t19_12_11_34z_image_lev1.fits',\n",
       " '/Volumes/Pandora/FOXSI/AIA/aia_lev1_171a_2014_12_11t19_12_23_34z_image_lev1.fits',\n",
       " '/Volumes/Pandora/FOXSI/AIA/aia_lev1_171a_2014_12_11t19_12_35_34z_image_lev1.fits',\n",
       " '/Volumes/Pandora/FOXSI/AIA/aia_lev1_171a_2014_12_11t19_12_47_34z_image_lev1.fits',\n",
       " '/Volumes/Pandora/FOXSI/AIA/aia_lev1_171a_2014_12_11t19_12_59_34z_image_lev1.fits',\n",
       " '/Volumes/Pandora/FOXSI/AIA/aia_lev1_171a_2014_12_11t19_13_11_34z_image_lev1.fits',\n",
       " '/Volumes/Pandora/FOXSI/AIA/aia_lev1_171a_2014_12_11t19_13_23_34z_image_lev1.fits',\n",
       " '/Volumes/Pandora/FOXSI/AIA/aia_lev1_171a_2014_12_11t19_13_35_34z_image_lev1.fits',\n",
       " '/Volumes/Pandora/FOXSI/AIA/aia_lev1_171a_2014_12_11t19_13_47_34z_image_lev1.fits',\n",
       " '/Volumes/Pandora/FOXSI/AIA/aia_lev1_171a_2014_12_11t19_13_59_34z_image_lev1.fits',\n",
       " '/Volumes/Pandora/FOXSI/AIA/aia_lev1_171a_2014_12_11t19_14_11_34z_image_lev1.fits',\n",
       " '/Volumes/Pandora/FOXSI/AIA/aia_lev1_171a_2014_12_11t19_14_23_34z_image_lev1.fits',\n",
       " '/Volumes/Pandora/FOXSI/AIA/aia_lev1_171a_2014_12_11t19_14_35_34z_image_lev1.fits',\n",
       " '/Volumes/Pandora/FOXSI/AIA/aia_lev1_171a_2014_12_11t19_14_47_34z_image_lev1.fits',\n",
       " '/Volumes/Pandora/FOXSI/AIA/aia_lev1_171a_2014_12_11t19_14_59_34z_image_lev1.fits',\n",
       " '/Volumes/Pandora/FOXSI/AIA/aia_lev1_171a_2014_12_11t19_15_11_34z_image_lev1.fits',\n",
       " '/Volumes/Pandora/FOXSI/AIA/aia_lev1_171a_2014_12_11t19_15_23_34z_image_lev1.fits',\n",
       " '/Volumes/Pandora/FOXSI/AIA/aia_lev1_171a_2014_12_11t19_15_35_34z_image_lev1.fits',\n",
       " '/Volumes/Pandora/FOXSI/AIA/aia_lev1_171a_2014_12_11t19_15_47_34z_image_lev1.fits',\n",
       " '/Volumes/Pandora/FOXSI/AIA/aia_lev1_171a_2014_12_11t19_15_59_34z_image_lev1.fits',\n",
       " '/Volumes/Pandora/FOXSI/AIA/aia_lev1_171a_2014_12_11t19_16_11_34z_image_lev1.fits',\n",
       " '/Volumes/Pandora/FOXSI/AIA/aia_lev1_171a_2014_12_11t19_16_23_34z_image_lev1.fits',\n",
       " '/Volumes/Pandora/FOXSI/AIA/aia_lev1_171a_2014_12_11t19_16_35_34z_image_lev1.fits',\n",
       " '/Volumes/Pandora/FOXSI/AIA/aia_lev1_171a_2014_12_11t19_16_47_34z_image_lev1.fits']"
      ]
     },
     "execution_count": 12,
     "metadata": {},
     "output_type": "execute_result"
    }
   ],
   "source": [
    "l = 12\n",
    "file_list['171'][68-l:72+l]"
   ]
  },
  {
   "cell_type": "code",
   "execution_count": null,
   "metadata": {},
   "outputs": [],
   "source": []
  },
  {
   "cell_type": "code",
   "execution_count": null,
   "metadata": {},
   "outputs": [],
   "source": []
  },
  {
   "cell_type": "code",
   "execution_count": null,
   "metadata": {},
   "outputs": [],
   "source": []
  },
  {
   "cell_type": "code",
   "execution_count": null,
   "metadata": {},
   "outputs": [],
   "source": []
  },
  {
   "cell_type": "code",
   "execution_count": null,
   "metadata": {},
   "outputs": [],
   "source": []
  },
  {
   "cell_type": "code",
   "execution_count": null,
   "metadata": {},
   "outputs": [],
   "source": []
  }
 ],
 "metadata": {
  "kernelspec": {
   "display_name": "Python 3",
   "language": "python",
   "name": "python3"
  },
  "language_info": {
   "codemirror_mode": {
    "name": "ipython",
    "version": 3
   },
   "file_extension": ".py",
   "mimetype": "text/x-python",
   "name": "python",
   "nbconvert_exporter": "python",
   "pygments_lexer": "ipython3",
   "version": "3.5.5"
  },
  "latex_envs": {
   "LaTeX_envs_menu_present": true,
   "autoclose": false,
   "autocomplete": true,
   "bibliofile": "biblio.bib",
   "cite_by": "apalike",
   "current_citInitial": 1,
   "eqLabelWithNumbers": true,
   "eqNumInitial": 1,
   "hotkeys": {
    "equation": "Ctrl-E",
    "itemize": "Ctrl-I"
   },
   "labels_anchors": false,
   "latex_user_defs": false,
   "report_style_numbering": false,
   "user_envs_cfg": false
  }
 },
 "nbformat": 4,
 "nbformat_minor": 2
}
